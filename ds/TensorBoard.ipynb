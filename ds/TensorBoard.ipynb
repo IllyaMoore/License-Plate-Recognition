{
 "cells": [
  {
   "cell_type": "markdown",
   "id": "60e024dc",
   "metadata": {},
   "source": [
    "tensorboard --logdir=runs"
   ]
  },
  {
   "cell_type": "code",
   "execution_count": 12,
   "id": "dfbb0ade",
   "metadata": {},
   "outputs": [],
   "source": [
    "from torch.utils.tensorboard import SummaryWriter\n",
    "import torch\n",
    "from torch.utils.tensorboard import SummaryWriter\n",
    "from torchvision import datasets, transforms,models"
   ]
  },
  {
   "cell_type": "code",
   "execution_count": 4,
   "id": "cc094f5f",
   "metadata": {},
   "outputs": [],
   "source": [
    "writer = SummaryWriter()\n",
    "writer.add_scalar('example', 3)"
   ]
  },
  {
   "cell_type": "code",
   "execution_count": 14,
   "id": "b5048e11",
   "metadata": {},
   "outputs": [],
   "source": [
    "\n",
    "\n",
    "writer = SummaryWriter()\n",
    "model = models.resnet18(False)\n",
    "writer.add_graph(model,torch.rand([1,3,224,224]))\n",
    "def train(model, optimizer, loss_fn, train_data_loader, test_data_loader,\n",
    "    epochs=20):\n",
    "    model = model.train()\n",
    "    iteration = 0\n",
    "    \n",
    "    for epoch in range(epochs):\n",
    "        model.train()\n",
    "        for batch in train_loader:\n",
    "            optimizer.zero_grad()\n",
    "            input, target = batch\n",
    "            output = model(input)\n",
    "            loss = loss_fn(output, target)\n",
    "            writer.add_scalar('loss', loss, epoch)\n",
    "            loss.backward()\n",
    "            optimizer.step()\n",
    "            \n",
    "        model.eval()\n",
    "        num_correct = 0\n",
    "        num_examples = 0\n",
    "        for batch in val_loader:\n",
    "            input, target = batch\n",
    "            output = model(input)\n",
    "            correct = torch.eq(torch.max(F.softmax(output), dim=1)[1],\n",
    "            target).view(-1)\n",
    "            num_correct += torch.sum(correct).item()\n",
    "            num_examples += correct.shape[0]\n",
    "            print(\"Epoch {}, accuracy = {:.2f}\".format(epoch,num_correct / num_examples))\n",
    "            \n",
    "            writer.add_scalar('accuracy', num_correct / num_examples, epoch)\n",
    "        iterations += 1\n"
   ]
  },
  {
   "cell_type": "code",
   "execution_count": null,
   "id": "78c30cde",
   "metadata": {},
   "outputs": [],
   "source": []
  }
 ],
 "metadata": {
  "kernelspec": {
   "display_name": ".venv (3.13.0)",
   "language": "python",
   "name": "python3"
  },
  "language_info": {
   "codemirror_mode": {
    "name": "ipython",
    "version": 3
   },
   "file_extension": ".py",
   "mimetype": "text/x-python",
   "name": "python",
   "nbconvert_exporter": "python",
   "pygments_lexer": "ipython3",
   "version": "3.13.0"
  }
 },
 "nbformat": 4,
 "nbformat_minor": 5
}
