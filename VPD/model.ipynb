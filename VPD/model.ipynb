{
 "cells": [
  {
   "cell_type": "code",
   "execution_count": 1,
   "id": "56714c6a",
   "metadata": {},
   "outputs": [],
   "source": [
    "import sys\n",
    "import os\n",
    "current_dir = os.getcwd()\n",
    "ds_path = os.path.join(os.path.dirname(current_dir), 'ds')\n",
    "sys.path.append(ds_path)\n",
    "\n",
    "from generate_loader import dataloaders"
   ]
  },
  {
   "cell_type": "code",
   "execution_count": 2,
   "id": "716a119d",
   "metadata": {},
   "outputs": [],
   "source": [
    "trainloader, testloader = dataloaders()"
   ]
  }
 ],
 "metadata": {
  "kernelspec": {
   "display_name": ".venv (3.13.0)",
   "language": "python",
   "name": "python3"
  },
  "language_info": {
   "codemirror_mode": {
    "name": "ipython",
    "version": 3
   },
   "file_extension": ".py",
   "mimetype": "text/x-python",
   "name": "python",
   "nbconvert_exporter": "python",
   "pygments_lexer": "ipython3",
   "version": "3.13.0"
  }
 },
 "nbformat": 4,
 "nbformat_minor": 5
}
